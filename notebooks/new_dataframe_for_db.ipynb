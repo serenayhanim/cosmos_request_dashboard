{
 "cells": [
  {
   "cell_type": "code",
   "execution_count": 93,
   "metadata": {},
   "outputs": [],
   "source": [
    "import pycountry\n",
    "import pandas as pd\n",
    "import numpy as np\n",
    "import re\n",
    "import os"
   ]
  },
  {
   "cell_type": "code",
   "execution_count": 94,
   "metadata": {},
   "outputs": [],
   "source": [
    "df = pd.read_csv('/Users/serenay/Documents/work/engagement_lead/COSMOS-request-dashboard/research/notebooks/data/COSMOS_Requests.csv')"
   ]
  },
  {
   "cell_type": "code",
   "execution_count": 95,
   "metadata": {},
   "outputs": [],
   "source": [
    "# Null rows are deleted from 'Email' column\n",
    "df = df[~df[\"Email\"].isnull()]"
   ]
  },
  {
   "cell_type": "code",
   "execution_count": 96,
   "metadata": {},
   "outputs": [],
   "source": [
    "# regex patterns\n",
    "df_country_patterns = pd.read_csv(\"/Users/serenay/Documents/work/engagement_lead/COSMOS-request-dashboard/research/notebooks/data/country_regex_patterns.csv\")"
   ]
  },
  {
   "cell_type": "code",
   "execution_count": 97,
   "metadata": {},
   "outputs": [],
   "source": [
    "def match_country_pattern(email, df_country_patterns):\n",
    "    '''`function returns a country name when it is matched with the regex pattern. '''\n",
    "    for index, row in df_country_patterns.iterrows():\n",
    "        if re.search(row['regex_pattern'], email):\n",
    "            return(row['country_name'])\n",
    "            break"
   ]
  },
  {
   "cell_type": "code",
   "execution_count": 98,
   "metadata": {},
   "outputs": [],
   "source": [
    "# Create 'country_name' for countries, we found from emails.\n",
    "df[\"country_name\"] = df[\"Email\"].apply(lambda x: match_country_pattern(x, df_country_patterns))"
   ]
  },
  {
   "cell_type": "code",
   "execution_count": 99,
   "metadata": {},
   "outputs": [],
   "source": [
    "# Create a csv file for null rows country_names column has.\n",
    "# This file was created to figure out how many countries was written in the spreadsheet \n",
    "# before we determined the regex pattern from emails.\n",
    "df[df[\"country_name\"].isnull()].to_csv(\"/Users/serenay/Documents/work/engagement_lead/COSMOS-request-dashboard/research/notebooks/data/temp.csv\")"
   ]
  },
  {
   "cell_type": "code",
   "execution_count": 100,
   "metadata": {},
   "outputs": [],
   "source": [
    "# Drop duplicated Emails\n",
    "df_missing_countries = pd.read_csv(\"/Users/serenay/Documents/work/engagement_lead/COSMOS-request-dashboard/research/notebooks/data/temp.csv\").drop_duplicates(subset= \"Email\",\n",
    "                                                             ignore_index=True)"
   ]
  },
  {
   "cell_type": "code",
   "execution_count": 101,
   "metadata": {},
   "outputs": [],
   "source": [
    "# Select only two columns\n",
    "df_missing_countries = df_missing_countries[[\"Email\", \"Country\"]]\n"
   ]
  },
  {
   "cell_type": "code",
   "execution_count": 102,
   "metadata": {},
   "outputs": [],
   "source": [
    "# Joined two df on email key column.\n",
    "temp_joined_df = df.merge(df_missing_countries, on='Email', how='left')"
   ]
  },
  {
   "cell_type": "code",
   "execution_count": 103,
   "metadata": {},
   "outputs": [],
   "source": [
    "# Combine two columns (country_name and country_y) into one (country_name_new)\n",
    "temp_joined_df['country_name_new'] = temp_joined_df[\"country_name\"].combine_first(temp_joined_df[\"Country_y\"])"
   ]
  },
  {
   "cell_type": "code",
   "execution_count": 104,
   "metadata": {},
   "outputs": [],
   "source": [
    "# Dropped unnecessary columns from dataframe\n",
    "dropped_temp_joined_df=temp_joined_df.drop(columns=['Counry', 'Country_x', 'Domain'])"
   ]
  },
  {
   "cell_type": "code",
   "execution_count": 105,
   "metadata": {},
   "outputs": [],
   "source": [
    "def convert_country_iso3(country):\n",
    "    \"\"\"converts country name to country codes\"\"\"\n",
    "    try:\n",
    "        iso3 = pycountry.countries.get(name=country).alpha_3\n",
    "    except AttributeError:\n",
    "        iso3 = \"Other\"\n",
    "    return iso3"
   ]
  },
  {
   "cell_type": "code",
   "execution_count": 106,
   "metadata": {},
   "outputs": [],
   "source": [
    "dropped_temp_joined_df.loc[dropped_temp_joined_df[\"country_name_new\"].isnull(),'country_name_new'] = 'NaN'"
   ]
  },
  {
   "cell_type": "code",
   "execution_count": 107,
   "metadata": {},
   "outputs": [],
   "source": [
    "# Add iso3 column for graph.\n",
    "dropped_temp_joined_df[\"country_iso3\"] = dropped_temp_joined_df[\"country_name_new\"].apply(lambda x:convert_country_iso3(x))"
   ]
  },
  {
   "cell_type": "code",
   "execution_count": 108,
   "metadata": {},
   "outputs": [],
   "source": [
    "geo_df = dropped_temp_joined_df['country_name_new'].value_counts().reset_index()"
   ]
  },
  {
   "cell_type": "code",
   "execution_count": 109,
   "metadata": {},
   "outputs": [],
   "source": [
    "geo_df[\"country_iso3\"] = geo_df[\"index\"].apply(lambda x:convert_country_iso3(x))"
   ]
  },
  {
   "cell_type": "code",
   "execution_count": 110,
   "metadata": {},
   "outputs": [
    {
     "data": {
      "text/plain": "             index  country_name_new country_iso3\n0   United Kingdom              1322          GBR\n1              NaN               584        Other\n2    United States               344          USA\n3           Canada                82          CAN\n4        Australia                78          AUS\n..             ...               ...          ...\n63         Algeria                 1          DZA\n64        Viet Nam                 1          VNM\n65         Morocco                 1          MAR\n66      Costa Rica                 1          CRI\n67         Romania                 1          ROU\n\n[68 rows x 3 columns]",
      "text/html": "<div>\n<style scoped>\n    .dataframe tbody tr th:only-of-type {\n        vertical-align: middle;\n    }\n\n    .dataframe tbody tr th {\n        vertical-align: top;\n    }\n\n    .dataframe thead th {\n        text-align: right;\n    }\n</style>\n<table border=\"1\" class=\"dataframe\">\n  <thead>\n    <tr style=\"text-align: right;\">\n      <th></th>\n      <th>index</th>\n      <th>country_name_new</th>\n      <th>country_iso3</th>\n    </tr>\n  </thead>\n  <tbody>\n    <tr>\n      <th>0</th>\n      <td>United Kingdom</td>\n      <td>1322</td>\n      <td>GBR</td>\n    </tr>\n    <tr>\n      <th>1</th>\n      <td>NaN</td>\n      <td>584</td>\n      <td>Other</td>\n    </tr>\n    <tr>\n      <th>2</th>\n      <td>United States</td>\n      <td>344</td>\n      <td>USA</td>\n    </tr>\n    <tr>\n      <th>3</th>\n      <td>Canada</td>\n      <td>82</td>\n      <td>CAN</td>\n    </tr>\n    <tr>\n      <th>4</th>\n      <td>Australia</td>\n      <td>78</td>\n      <td>AUS</td>\n    </tr>\n    <tr>\n      <th>...</th>\n      <td>...</td>\n      <td>...</td>\n      <td>...</td>\n    </tr>\n    <tr>\n      <th>63</th>\n      <td>Algeria</td>\n      <td>1</td>\n      <td>DZA</td>\n    </tr>\n    <tr>\n      <th>64</th>\n      <td>Viet Nam</td>\n      <td>1</td>\n      <td>VNM</td>\n    </tr>\n    <tr>\n      <th>65</th>\n      <td>Morocco</td>\n      <td>1</td>\n      <td>MAR</td>\n    </tr>\n    <tr>\n      <th>66</th>\n      <td>Costa Rica</td>\n      <td>1</td>\n      <td>CRI</td>\n    </tr>\n    <tr>\n      <th>67</th>\n      <td>Romania</td>\n      <td>1</td>\n      <td>ROU</td>\n    </tr>\n  </tbody>\n</table>\n<p>68 rows × 3 columns</p>\n</div>"
     },
     "execution_count": 110,
     "metadata": {},
     "output_type": "execute_result"
    }
   ],
   "source": [
    "geo_df"
   ]
  },
  {
   "cell_type": "code",
   "execution_count": 111,
   "metadata": {},
   "outputs": [],
   "source": [
    "geo_df.columns= [\"country\", \"download_count\", \"country_iso3\"]"
   ]
  },
  {
   "cell_type": "code",
   "execution_count": 112,
   "metadata": {},
   "outputs": [
    {
     "data": {
      "text/plain": "           country  download_count country_iso3\n0   United Kingdom            1322          GBR\n1              NaN             584        Other\n2    United States             344          USA\n3           Canada              82          CAN\n4        Australia              78          AUS\n..             ...             ...          ...\n63         Algeria               1          DZA\n64        Viet Nam               1          VNM\n65         Morocco               1          MAR\n66      Costa Rica               1          CRI\n67         Romania               1          ROU\n\n[68 rows x 3 columns]",
      "text/html": "<div>\n<style scoped>\n    .dataframe tbody tr th:only-of-type {\n        vertical-align: middle;\n    }\n\n    .dataframe tbody tr th {\n        vertical-align: top;\n    }\n\n    .dataframe thead th {\n        text-align: right;\n    }\n</style>\n<table border=\"1\" class=\"dataframe\">\n  <thead>\n    <tr style=\"text-align: right;\">\n      <th></th>\n      <th>country</th>\n      <th>download_count</th>\n      <th>country_iso3</th>\n    </tr>\n  </thead>\n  <tbody>\n    <tr>\n      <th>0</th>\n      <td>United Kingdom</td>\n      <td>1322</td>\n      <td>GBR</td>\n    </tr>\n    <tr>\n      <th>1</th>\n      <td>NaN</td>\n      <td>584</td>\n      <td>Other</td>\n    </tr>\n    <tr>\n      <th>2</th>\n      <td>United States</td>\n      <td>344</td>\n      <td>USA</td>\n    </tr>\n    <tr>\n      <th>3</th>\n      <td>Canada</td>\n      <td>82</td>\n      <td>CAN</td>\n    </tr>\n    <tr>\n      <th>4</th>\n      <td>Australia</td>\n      <td>78</td>\n      <td>AUS</td>\n    </tr>\n    <tr>\n      <th>...</th>\n      <td>...</td>\n      <td>...</td>\n      <td>...</td>\n    </tr>\n    <tr>\n      <th>63</th>\n      <td>Algeria</td>\n      <td>1</td>\n      <td>DZA</td>\n    </tr>\n    <tr>\n      <th>64</th>\n      <td>Viet Nam</td>\n      <td>1</td>\n      <td>VNM</td>\n    </tr>\n    <tr>\n      <th>65</th>\n      <td>Morocco</td>\n      <td>1</td>\n      <td>MAR</td>\n    </tr>\n    <tr>\n      <th>66</th>\n      <td>Costa Rica</td>\n      <td>1</td>\n      <td>CRI</td>\n    </tr>\n    <tr>\n      <th>67</th>\n      <td>Romania</td>\n      <td>1</td>\n      <td>ROU</td>\n    </tr>\n  </tbody>\n</table>\n<p>68 rows × 3 columns</p>\n</div>"
     },
     "execution_count": 112,
     "metadata": {},
     "output_type": "execute_result"
    }
   ],
   "source": [
    "geo_df"
   ]
  },
  {
   "cell_type": "code",
   "execution_count": 113,
   "metadata": {
    "pycharm": {
     "name": "#%%\n"
    }
   },
   "outputs": [],
   "source": [
    "geo_df.to_csv(\"/Users/serenay/Documents/work/engagement_lead/COSMOS-request-dashboard/interactive-geo-map/data/cosmos_download.csv\")"
   ]
  }
 ],
 "metadata": {
  "kernelspec": {
   "display_name": "Python 3",
   "language": "python",
   "name": "python3"
  },
  "language_info": {
   "codemirror_mode": {
    "name": "ipython",
    "version": 3
   },
   "file_extension": ".py",
   "mimetype": "text/x-python",
   "name": "python",
   "nbconvert_exporter": "python",
   "pygments_lexer": "ipython3",
   "version": "3.8.3"
  }
 },
 "nbformat": 4,
 "nbformat_minor": 4
}